{
  "nbformat": 4,
  "nbformat_minor": 0,
  "metadata": {
    "kernelspec": {
      "name": "python3",
      "display_name": "Python 3"
    },
    "colab": {
      "name": "LS_DS_432_Convolution_Neural_Networks_Assignment.ipynb",
      "provenance": [],
      "toc_visible": true
    },
    "accelerator": "GPU"
  },
  "cells": [
    {
      "cell_type": "markdown",
      "metadata": {
        "id": "91fzs-2fIW9r",
        "colab_type": "text"
      },
      "source": [
        "<img align=\"left\" src=\"https://lever-client-logos.s3.amazonaws.com/864372b1-534c-480e-acd5-9711f850815c-1524247202159.png\" width=200>\n",
        "<br></br>\n",
        "<br></br>\n",
        "\n",
        "## *Data Science Unit 4 Sprint 3 Assignment 2*\n",
        "# Convolutional Neural Networks (CNNs)"
      ]
    },
    {
      "cell_type": "markdown",
      "metadata": {
        "colab_type": "text",
        "id": "0lfZdD_cp1t5"
      },
      "source": [
        "# Assignment\n",
        "\n",
        "- <a href=\"#p1\">Part 1:</a> Pre-Trained Model\n",
        "- <a href=\"#p2\">Part 2:</a> Custom CNN Model\n",
        "- <a href=\"#p3\">Part 3:</a> CNN with Data Augmentation\n",
        "\n",
        "\n",
        "You will apply three different CNN models to a binary image classification model using Keras. Classify images of Mountains (`./data/train/mountain/*`) and images of forests (`./data/train/forest/*`). Treat mountains as the positive class (1) and the forest images as the negative (zero). \n",
        "\n",
        "|Mountain (+)|Forest (-)|\n",
        "|---|---|\n",
        "|![](https://github.com/jonDuke/DS-Unit-4-Sprint-3-Deep-Learning/blob/master/module2-convolutional-neural-networks/data/train/mountain/art1131.jpg?raw=1)|![](https://github.com/jonDuke/DS-Unit-4-Sprint-3-Deep-Learning/blob/master/module2-convolutional-neural-networks/data/validation/forest/cdmc317.jpg?raw=1)|\n",
        "\n",
        "The problem is relatively difficult given that the sample is tiny: there are about 350 observations per class. This sample size might be something that you can expect with prototyping an image classification problem/solution at work. Get accustomed to evaluating several different possible models."
      ]
    },
    {
      "cell_type": "markdown",
      "metadata": {
        "colab_type": "text",
        "id": "IodBrNiEIW9s"
      },
      "source": [
        "# Pre - Trained Model\n",
        "<a id=\"p1\"></a>\n",
        "\n",
        "Load a pretrained network from Keras, [ResNet50](https://tfhub.dev/google/imagenet/resnet_v1_50/classification/1) - a 50 layer deep network trained to recognize [1000 objects](https://storage.googleapis.com/download.tensorflow.org/data/ImageNetLabels.txt). Starting usage:\n",
        "\n",
        "```python\n",
        "import numpy as np\n",
        "\n",
        "from tensorflow.keras.applications.resnet50 import ResNet50\n",
        "from tensorflow.keras.preprocessing import image\n",
        "from tensorflow.keras.applications.resnet50 import preprocess_input, decode_predictions\n",
        "\n",
        "from tensorflow.keras.layers import Dense, GlobalAveragePooling2D\n",
        "from tensorflow.keras.models import Model # This is the functional API\n",
        "\n",
        "resnet = ResNet50(weights='imagenet', include_top=False)\n",
        "\n",
        "```\n",
        "\n",
        "The `include_top` parameter in `ResNet50` will remove the full connected layers from the ResNet model. The next step is to turn off the training of the ResNet layers. We want to use the learned parameters without updating them in future training passes. \n",
        "\n",
        "```python\n",
        "for layer in resnet.layers:\n",
        "    layer.trainable = False\n",
        "```\n",
        "\n",
        "Using the Keras functional API, we will need to additional additional full connected layers to our model. We we removed the top layers, we removed all preivous fully connected layers. In other words, we kept only the feature processing portions of our network. You can expert with additional layers beyond what's listed here. The `GlobalAveragePooling2D` layer functions as a really fancy flatten function by taking the average of each of the last convolutional layer outputs (which is two dimensional still). \n",
        "\n",
        "```python\n",
        "x = resnet.output\n",
        "x = GlobalAveragePooling2D()(x) # This layer is a really fancy flatten\n",
        "x = Dense(1024, activation='relu')(x)\n",
        "predictions = Dense(1, activation='sigmoid')(x)\n",
        "model = Model(resnet.input, predictions)\n",
        "```\n",
        "\n",
        "Your assignment is to apply the transfer learning above to classify images of Mountains (`./data/train/mountain/*`) and images of forests (`./data/train/forest/*`). Treat mountains as the positive class (1) and the forest images as the negative (zero). \n",
        "\n",
        "Steps to complete assignment: \n",
        "1. Load in Image Data into numpy arrays (`X`) \n",
        "2. Create a `y` for the labels\n",
        "3. Train your model with pre-trained layers from resnet\n",
        "4. Report your model's accuracy"
      ]
    },
    {
      "cell_type": "markdown",
      "metadata": {
        "id": "kEkiOWtMIW9t",
        "colab_type": "text"
      },
      "source": [
        "## Load in Data\n",
        "\n",
        "This surprisingly more difficult than it seems, because you are working with directories of images instead of a single file. This boiler plate will help you download a zipped version of the directory of images. The directory is organized into \"train\" and \"validation\" which you can use inside an `ImageGenerator` class to stream batches of images thru your model.  \n"
      ]
    },
    {
      "cell_type": "markdown",
      "metadata": {
        "id": "wmX2lkczIW9u",
        "colab_type": "text"
      },
      "source": [
        "### Download & Summarize the Data\n",
        "\n",
        "This step is completed for you. Just run the cells and review the results. "
      ]
    },
    {
      "cell_type": "code",
      "metadata": {
        "id": "L3C5fhPNIW9u",
        "colab_type": "code",
        "colab": {}
      },
      "source": [
        "import tensorflow as tf\n",
        "import os\n",
        "\n",
        "_URL = 'https://github.com/LambdaSchool/DS-Unit-4-Sprint-3-Deep-Learning/blob/master/module2-convolutional-neural-networks/data.zip?raw=true'\n",
        "\n",
        "path_to_zip = tf.keras.utils.get_file('./data.zip', origin=_URL, extract=True)\n",
        "PATH = os.path.join(os.path.dirname(path_to_zip), 'data')"
      ],
      "execution_count": 0,
      "outputs": []
    },
    {
      "cell_type": "code",
      "metadata": {
        "id": "PIRyebMxIW9x",
        "colab_type": "code",
        "colab": {}
      },
      "source": [
        "train_dir = os.path.join(PATH, 'train')\n",
        "validation_dir = os.path.join(PATH, 'validation')"
      ],
      "execution_count": 0,
      "outputs": []
    },
    {
      "cell_type": "code",
      "metadata": {
        "id": "osHwSVLfIW90",
        "colab_type": "code",
        "colab": {}
      },
      "source": [
        "train_mountain_dir = os.path.join(train_dir, 'mountain')  # directory with our training cat pictures\n",
        "train_forest_dir = os.path.join(train_dir, 'forest')  # directory with our training dog pictures\n",
        "validation_mountain_dir = os.path.join(validation_dir, 'mountain')  # directory with our validation cat pictures\n",
        "validation_forest_dir = os.path.join(validation_dir, 'forest')  # directory with our validation dog pictures"
      ],
      "execution_count": 0,
      "outputs": []
    },
    {
      "cell_type": "code",
      "metadata": {
        "id": "7Eu_MDIsIW92",
        "colab_type": "code",
        "colab": {}
      },
      "source": [
        "num_mountain_tr = len(os.listdir(train_mountain_dir))\n",
        "num_forest_tr = len(os.listdir(train_forest_dir))\n",
        "\n",
        "num_mountain_val = len(os.listdir(validation_mountain_dir))\n",
        "num_forest_val = len(os.listdir(validation_forest_dir))\n",
        "\n",
        "total_train = num_mountain_tr + num_forest_tr\n",
        "total_val = num_mountain_val + num_forest_val"
      ],
      "execution_count": 0,
      "outputs": []
    },
    {
      "cell_type": "code",
      "metadata": {
        "id": "vBlj6-DFIW95",
        "colab_type": "code",
        "colab": {
          "base_uri": "https://localhost:8080/",
          "height": 136
        },
        "outputId": "68ab1b10-1fae-4996-db92-78538479528c"
      },
      "source": [
        "print('total training mountain images:', num_mountain_tr)\n",
        "print('total training forest images:', num_forest_tr)\n",
        "\n",
        "print('total validation mountain images:', num_mountain_val)\n",
        "print('total validation forest images:', num_forest_val)\n",
        "print(\"--\")\n",
        "print(\"Total training images:\", total_train)\n",
        "print(\"Total validation images:\", total_val)"
      ],
      "execution_count": 6,
      "outputs": [
        {
          "output_type": "stream",
          "text": [
            "total training mountain images: 254\n",
            "total training forest images: 270\n",
            "total validation mountain images: 125\n",
            "total validation forest images: 62\n",
            "--\n",
            "Total training images: 524\n",
            "Total validation images: 187\n"
          ],
          "name": "stdout"
        }
      ]
    },
    {
      "cell_type": "markdown",
      "metadata": {
        "id": "NvmgmFc0IW97",
        "colab_type": "text"
      },
      "source": [
        "### Keras `ImageGenerator` to Process the Data\n",
        "\n",
        "This step is completed for you, but please review the code. The `ImageGenerator` class reads in batches of data from a directory and pass them to the model one batch at a time. Just like large text files, this method is advantageous, because it stifles the need to load a bunch of images into memory. \n",
        "\n",
        "Check out the documentation for this class method: [Keras `ImageGenerator` Class](https://keras.io/preprocessing/image/#imagedatagenerator-class). You'll expand it's use in the third assignment objective."
      ]
    },
    {
      "cell_type": "code",
      "metadata": {
        "id": "g6vvgw6LIW98",
        "colab_type": "code",
        "colab": {}
      },
      "source": [
        "batch_size = 16\n",
        "epochs = 50\n",
        "IMG_HEIGHT = 224\n",
        "IMG_WIDTH = 224\n",
        "CHNLS = 3"
      ],
      "execution_count": 0,
      "outputs": []
    },
    {
      "cell_type": "code",
      "metadata": {
        "id": "5WlELMIOIW9_",
        "colab_type": "code",
        "colab": {}
      },
      "source": [
        "from tensorflow.keras.preprocessing.image import ImageDataGenerator\n",
        "\n",
        "train_image_generator = ImageDataGenerator(rescale=1./255) # Generator for our training data\n",
        "validation_image_generator = ImageDataGenerator(rescale=1./255) # Generator for our validation data"
      ],
      "execution_count": 0,
      "outputs": []
    },
    {
      "cell_type": "code",
      "metadata": {
        "id": "s1bSfEKxIW-C",
        "colab_type": "code",
        "colab": {
          "base_uri": "https://localhost:8080/",
          "height": 34
        },
        "outputId": "e7732a1a-195e-4941-99df-f837afa1af9c"
      },
      "source": [
        "train_data_gen = train_image_generator.flow_from_directory(batch_size=batch_size,\n",
        "                                                           directory=train_dir,\n",
        "                                                           shuffle=True,\n",
        "                                                           target_size=(IMG_HEIGHT, IMG_WIDTH),\n",
        "                                                           class_mode='binary')"
      ],
      "execution_count": 9,
      "outputs": [
        {
          "output_type": "stream",
          "text": [
            "Found 533 images belonging to 2 classes.\n"
          ],
          "name": "stdout"
        }
      ]
    },
    {
      "cell_type": "code",
      "metadata": {
        "id": "UaxuPb5kIW-E",
        "colab_type": "code",
        "colab": {
          "base_uri": "https://localhost:8080/",
          "height": 34
        },
        "outputId": "d58b14f6-61b0-4d12-b2fd-c730781b2479"
      },
      "source": [
        "val_data_gen = validation_image_generator.flow_from_directory(batch_size=batch_size,\n",
        "                                                              directory=validation_dir,\n",
        "                                                              target_size=(IMG_HEIGHT, IMG_WIDTH),\n",
        "                                                              class_mode='binary')"
      ],
      "execution_count": 10,
      "outputs": [
        {
          "output_type": "stream",
          "text": [
            "Found 195 images belonging to 2 classes.\n"
          ],
          "name": "stdout"
        }
      ]
    },
    {
      "cell_type": "markdown",
      "metadata": {
        "id": "6jBanGzHIW-G",
        "colab_type": "text"
      },
      "source": [
        "## Instatiate Model\n",
        "\n",
        "most code copied from the \"Pre - Trained Model\" markup cell above"
      ]
    },
    {
      "cell_type": "code",
      "metadata": {
        "id": "K4I4F3wdIW-H",
        "colab_type": "code",
        "colab": {
          "base_uri": "https://localhost:8080/",
          "height": 51
        },
        "outputId": "4e90b04a-c7f8-44b0-8c25-2c56335a5334"
      },
      "source": [
        "import numpy as np\n",
        " \n",
        "from tensorflow.keras.applications.resnet50 import ResNet50\n",
        "from tensorflow.keras.preprocessing import image\n",
        "from tensorflow.keras.applications.resnet50 import preprocess_input, decode_predictions\n",
        " \n",
        "from tensorflow.keras.layers import Dense, GlobalAveragePooling2D\n",
        "from tensorflow.keras.models import Model # This is the functional API\n",
        " \n",
        "# Load the trained ResNet50 model\n",
        "resnet = ResNet50(weights='imagenet', include_top=False)"
      ],
      "execution_count": 1,
      "outputs": [
        {
          "output_type": "stream",
          "text": [
            "Downloading data from https://storage.googleapis.com/tensorflow/keras-applications/resnet/resnet50_weights_tf_dim_ordering_tf_kernels_notop.h5\n",
            "94773248/94765736 [==============================] - 1s 0us/step\n"
          ],
          "name": "stdout"
        }
      ]
    },
    {
      "cell_type": "code",
      "metadata": {
        "id": "FnxF4Fjiqqeo",
        "colab_type": "code",
        "colab": {
          "base_uri": "https://localhost:8080/",
          "height": 1000
        },
        "outputId": "7b6692fa-da35-4d4f-9a6c-997b43e9e410"
      },
      "source": [
        "resnet.summary()"
      ],
      "execution_count": 2,
      "outputs": [
        {
          "output_type": "stream",
          "text": [
            "Model: \"resnet50\"\n",
            "__________________________________________________________________________________________________\n",
            "Layer (type)                    Output Shape         Param #     Connected to                     \n",
            "==================================================================================================\n",
            "input_1 (InputLayer)            [(None, None, None,  0                                            \n",
            "__________________________________________________________________________________________________\n",
            "conv1_pad (ZeroPadding2D)       (None, None, None, 3 0           input_1[0][0]                    \n",
            "__________________________________________________________________________________________________\n",
            "conv1_conv (Conv2D)             (None, None, None, 6 9472        conv1_pad[0][0]                  \n",
            "__________________________________________________________________________________________________\n",
            "conv1_bn (BatchNormalization)   (None, None, None, 6 256         conv1_conv[0][0]                 \n",
            "__________________________________________________________________________________________________\n",
            "conv1_relu (Activation)         (None, None, None, 6 0           conv1_bn[0][0]                   \n",
            "__________________________________________________________________________________________________\n",
            "pool1_pad (ZeroPadding2D)       (None, None, None, 6 0           conv1_relu[0][0]                 \n",
            "__________________________________________________________________________________________________\n",
            "pool1_pool (MaxPooling2D)       (None, None, None, 6 0           pool1_pad[0][0]                  \n",
            "__________________________________________________________________________________________________\n",
            "conv2_block1_1_conv (Conv2D)    (None, None, None, 6 4160        pool1_pool[0][0]                 \n",
            "__________________________________________________________________________________________________\n",
            "conv2_block1_1_bn (BatchNormali (None, None, None, 6 256         conv2_block1_1_conv[0][0]        \n",
            "__________________________________________________________________________________________________\n",
            "conv2_block1_1_relu (Activation (None, None, None, 6 0           conv2_block1_1_bn[0][0]          \n",
            "__________________________________________________________________________________________________\n",
            "conv2_block1_2_conv (Conv2D)    (None, None, None, 6 36928       conv2_block1_1_relu[0][0]        \n",
            "__________________________________________________________________________________________________\n",
            "conv2_block1_2_bn (BatchNormali (None, None, None, 6 256         conv2_block1_2_conv[0][0]        \n",
            "__________________________________________________________________________________________________\n",
            "conv2_block1_2_relu (Activation (None, None, None, 6 0           conv2_block1_2_bn[0][0]          \n",
            "__________________________________________________________________________________________________\n",
            "conv2_block1_0_conv (Conv2D)    (None, None, None, 2 16640       pool1_pool[0][0]                 \n",
            "__________________________________________________________________________________________________\n",
            "conv2_block1_3_conv (Conv2D)    (None, None, None, 2 16640       conv2_block1_2_relu[0][0]        \n",
            "__________________________________________________________________________________________________\n",
            "conv2_block1_0_bn (BatchNormali (None, None, None, 2 1024        conv2_block1_0_conv[0][0]        \n",
            "__________________________________________________________________________________________________\n",
            "conv2_block1_3_bn (BatchNormali (None, None, None, 2 1024        conv2_block1_3_conv[0][0]        \n",
            "__________________________________________________________________________________________________\n",
            "conv2_block1_add (Add)          (None, None, None, 2 0           conv2_block1_0_bn[0][0]          \n",
            "                                                                 conv2_block1_3_bn[0][0]          \n",
            "__________________________________________________________________________________________________\n",
            "conv2_block1_out (Activation)   (None, None, None, 2 0           conv2_block1_add[0][0]           \n",
            "__________________________________________________________________________________________________\n",
            "conv2_block2_1_conv (Conv2D)    (None, None, None, 6 16448       conv2_block1_out[0][0]           \n",
            "__________________________________________________________________________________________________\n",
            "conv2_block2_1_bn (BatchNormali (None, None, None, 6 256         conv2_block2_1_conv[0][0]        \n",
            "__________________________________________________________________________________________________\n",
            "conv2_block2_1_relu (Activation (None, None, None, 6 0           conv2_block2_1_bn[0][0]          \n",
            "__________________________________________________________________________________________________\n",
            "conv2_block2_2_conv (Conv2D)    (None, None, None, 6 36928       conv2_block2_1_relu[0][0]        \n",
            "__________________________________________________________________________________________________\n",
            "conv2_block2_2_bn (BatchNormali (None, None, None, 6 256         conv2_block2_2_conv[0][0]        \n",
            "__________________________________________________________________________________________________\n",
            "conv2_block2_2_relu (Activation (None, None, None, 6 0           conv2_block2_2_bn[0][0]          \n",
            "__________________________________________________________________________________________________\n",
            "conv2_block2_3_conv (Conv2D)    (None, None, None, 2 16640       conv2_block2_2_relu[0][0]        \n",
            "__________________________________________________________________________________________________\n",
            "conv2_block2_3_bn (BatchNormali (None, None, None, 2 1024        conv2_block2_3_conv[0][0]        \n",
            "__________________________________________________________________________________________________\n",
            "conv2_block2_add (Add)          (None, None, None, 2 0           conv2_block1_out[0][0]           \n",
            "                                                                 conv2_block2_3_bn[0][0]          \n",
            "__________________________________________________________________________________________________\n",
            "conv2_block2_out (Activation)   (None, None, None, 2 0           conv2_block2_add[0][0]           \n",
            "__________________________________________________________________________________________________\n",
            "conv2_block3_1_conv (Conv2D)    (None, None, None, 6 16448       conv2_block2_out[0][0]           \n",
            "__________________________________________________________________________________________________\n",
            "conv2_block3_1_bn (BatchNormali (None, None, None, 6 256         conv2_block3_1_conv[0][0]        \n",
            "__________________________________________________________________________________________________\n",
            "conv2_block3_1_relu (Activation (None, None, None, 6 0           conv2_block3_1_bn[0][0]          \n",
            "__________________________________________________________________________________________________\n",
            "conv2_block3_2_conv (Conv2D)    (None, None, None, 6 36928       conv2_block3_1_relu[0][0]        \n",
            "__________________________________________________________________________________________________\n",
            "conv2_block3_2_bn (BatchNormali (None, None, None, 6 256         conv2_block3_2_conv[0][0]        \n",
            "__________________________________________________________________________________________________\n",
            "conv2_block3_2_relu (Activation (None, None, None, 6 0           conv2_block3_2_bn[0][0]          \n",
            "__________________________________________________________________________________________________\n",
            "conv2_block3_3_conv (Conv2D)    (None, None, None, 2 16640       conv2_block3_2_relu[0][0]        \n",
            "__________________________________________________________________________________________________\n",
            "conv2_block3_3_bn (BatchNormali (None, None, None, 2 1024        conv2_block3_3_conv[0][0]        \n",
            "__________________________________________________________________________________________________\n",
            "conv2_block3_add (Add)          (None, None, None, 2 0           conv2_block2_out[0][0]           \n",
            "                                                                 conv2_block3_3_bn[0][0]          \n",
            "__________________________________________________________________________________________________\n",
            "conv2_block3_out (Activation)   (None, None, None, 2 0           conv2_block3_add[0][0]           \n",
            "__________________________________________________________________________________________________\n",
            "conv3_block1_1_conv (Conv2D)    (None, None, None, 1 32896       conv2_block3_out[0][0]           \n",
            "__________________________________________________________________________________________________\n",
            "conv3_block1_1_bn (BatchNormali (None, None, None, 1 512         conv3_block1_1_conv[0][0]        \n",
            "__________________________________________________________________________________________________\n",
            "conv3_block1_1_relu (Activation (None, None, None, 1 0           conv3_block1_1_bn[0][0]          \n",
            "__________________________________________________________________________________________________\n",
            "conv3_block1_2_conv (Conv2D)    (None, None, None, 1 147584      conv3_block1_1_relu[0][0]        \n",
            "__________________________________________________________________________________________________\n",
            "conv3_block1_2_bn (BatchNormali (None, None, None, 1 512         conv3_block1_2_conv[0][0]        \n",
            "__________________________________________________________________________________________________\n",
            "conv3_block1_2_relu (Activation (None, None, None, 1 0           conv3_block1_2_bn[0][0]          \n",
            "__________________________________________________________________________________________________\n",
            "conv3_block1_0_conv (Conv2D)    (None, None, None, 5 131584      conv2_block3_out[0][0]           \n",
            "__________________________________________________________________________________________________\n",
            "conv3_block1_3_conv (Conv2D)    (None, None, None, 5 66048       conv3_block1_2_relu[0][0]        \n",
            "__________________________________________________________________________________________________\n",
            "conv3_block1_0_bn (BatchNormali (None, None, None, 5 2048        conv3_block1_0_conv[0][0]        \n",
            "__________________________________________________________________________________________________\n",
            "conv3_block1_3_bn (BatchNormali (None, None, None, 5 2048        conv3_block1_3_conv[0][0]        \n",
            "__________________________________________________________________________________________________\n",
            "conv3_block1_add (Add)          (None, None, None, 5 0           conv3_block1_0_bn[0][0]          \n",
            "                                                                 conv3_block1_3_bn[0][0]          \n",
            "__________________________________________________________________________________________________\n",
            "conv3_block1_out (Activation)   (None, None, None, 5 0           conv3_block1_add[0][0]           \n",
            "__________________________________________________________________________________________________\n",
            "conv3_block2_1_conv (Conv2D)    (None, None, None, 1 65664       conv3_block1_out[0][0]           \n",
            "__________________________________________________________________________________________________\n",
            "conv3_block2_1_bn (BatchNormali (None, None, None, 1 512         conv3_block2_1_conv[0][0]        \n",
            "__________________________________________________________________________________________________\n",
            "conv3_block2_1_relu (Activation (None, None, None, 1 0           conv3_block2_1_bn[0][0]          \n",
            "__________________________________________________________________________________________________\n",
            "conv3_block2_2_conv (Conv2D)    (None, None, None, 1 147584      conv3_block2_1_relu[0][0]        \n",
            "__________________________________________________________________________________________________\n",
            "conv3_block2_2_bn (BatchNormali (None, None, None, 1 512         conv3_block2_2_conv[0][0]        \n",
            "__________________________________________________________________________________________________\n",
            "conv3_block2_2_relu (Activation (None, None, None, 1 0           conv3_block2_2_bn[0][0]          \n",
            "__________________________________________________________________________________________________\n",
            "conv3_block2_3_conv (Conv2D)    (None, None, None, 5 66048       conv3_block2_2_relu[0][0]        \n",
            "__________________________________________________________________________________________________\n",
            "conv3_block2_3_bn (BatchNormali (None, None, None, 5 2048        conv3_block2_3_conv[0][0]        \n",
            "__________________________________________________________________________________________________\n",
            "conv3_block2_add (Add)          (None, None, None, 5 0           conv3_block1_out[0][0]           \n",
            "                                                                 conv3_block2_3_bn[0][0]          \n",
            "__________________________________________________________________________________________________\n",
            "conv3_block2_out (Activation)   (None, None, None, 5 0           conv3_block2_add[0][0]           \n",
            "__________________________________________________________________________________________________\n",
            "conv3_block3_1_conv (Conv2D)    (None, None, None, 1 65664       conv3_block2_out[0][0]           \n",
            "__________________________________________________________________________________________________\n",
            "conv3_block3_1_bn (BatchNormali (None, None, None, 1 512         conv3_block3_1_conv[0][0]        \n",
            "__________________________________________________________________________________________________\n",
            "conv3_block3_1_relu (Activation (None, None, None, 1 0           conv3_block3_1_bn[0][0]          \n",
            "__________________________________________________________________________________________________\n",
            "conv3_block3_2_conv (Conv2D)    (None, None, None, 1 147584      conv3_block3_1_relu[0][0]        \n",
            "__________________________________________________________________________________________________\n",
            "conv3_block3_2_bn (BatchNormali (None, None, None, 1 512         conv3_block3_2_conv[0][0]        \n",
            "__________________________________________________________________________________________________\n",
            "conv3_block3_2_relu (Activation (None, None, None, 1 0           conv3_block3_2_bn[0][0]          \n",
            "__________________________________________________________________________________________________\n",
            "conv3_block3_3_conv (Conv2D)    (None, None, None, 5 66048       conv3_block3_2_relu[0][0]        \n",
            "__________________________________________________________________________________________________\n",
            "conv3_block3_3_bn (BatchNormali (None, None, None, 5 2048        conv3_block3_3_conv[0][0]        \n",
            "__________________________________________________________________________________________________\n",
            "conv3_block3_add (Add)          (None, None, None, 5 0           conv3_block2_out[0][0]           \n",
            "                                                                 conv3_block3_3_bn[0][0]          \n",
            "__________________________________________________________________________________________________\n",
            "conv3_block3_out (Activation)   (None, None, None, 5 0           conv3_block3_add[0][0]           \n",
            "__________________________________________________________________________________________________\n",
            "conv3_block4_1_conv (Conv2D)    (None, None, None, 1 65664       conv3_block3_out[0][0]           \n",
            "__________________________________________________________________________________________________\n",
            "conv3_block4_1_bn (BatchNormali (None, None, None, 1 512         conv3_block4_1_conv[0][0]        \n",
            "__________________________________________________________________________________________________\n",
            "conv3_block4_1_relu (Activation (None, None, None, 1 0           conv3_block4_1_bn[0][0]          \n",
            "__________________________________________________________________________________________________\n",
            "conv3_block4_2_conv (Conv2D)    (None, None, None, 1 147584      conv3_block4_1_relu[0][0]        \n",
            "__________________________________________________________________________________________________\n",
            "conv3_block4_2_bn (BatchNormali (None, None, None, 1 512         conv3_block4_2_conv[0][0]        \n",
            "__________________________________________________________________________________________________\n",
            "conv3_block4_2_relu (Activation (None, None, None, 1 0           conv3_block4_2_bn[0][0]          \n",
            "__________________________________________________________________________________________________\n",
            "conv3_block4_3_conv (Conv2D)    (None, None, None, 5 66048       conv3_block4_2_relu[0][0]        \n",
            "__________________________________________________________________________________________________\n",
            "conv3_block4_3_bn (BatchNormali (None, None, None, 5 2048        conv3_block4_3_conv[0][0]        \n",
            "__________________________________________________________________________________________________\n",
            "conv3_block4_add (Add)          (None, None, None, 5 0           conv3_block3_out[0][0]           \n",
            "                                                                 conv3_block4_3_bn[0][0]          \n",
            "__________________________________________________________________________________________________\n",
            "conv3_block4_out (Activation)   (None, None, None, 5 0           conv3_block4_add[0][0]           \n",
            "__________________________________________________________________________________________________\n",
            "conv4_block1_1_conv (Conv2D)    (None, None, None, 2 131328      conv3_block4_out[0][0]           \n",
            "__________________________________________________________________________________________________\n",
            "conv4_block1_1_bn (BatchNormali (None, None, None, 2 1024        conv4_block1_1_conv[0][0]        \n",
            "__________________________________________________________________________________________________\n",
            "conv4_block1_1_relu (Activation (None, None, None, 2 0           conv4_block1_1_bn[0][0]          \n",
            "__________________________________________________________________________________________________\n",
            "conv4_block1_2_conv (Conv2D)    (None, None, None, 2 590080      conv4_block1_1_relu[0][0]        \n",
            "__________________________________________________________________________________________________\n",
            "conv4_block1_2_bn (BatchNormali (None, None, None, 2 1024        conv4_block1_2_conv[0][0]        \n",
            "__________________________________________________________________________________________________\n",
            "conv4_block1_2_relu (Activation (None, None, None, 2 0           conv4_block1_2_bn[0][0]          \n",
            "__________________________________________________________________________________________________\n",
            "conv4_block1_0_conv (Conv2D)    (None, None, None, 1 525312      conv3_block4_out[0][0]           \n",
            "__________________________________________________________________________________________________\n",
            "conv4_block1_3_conv (Conv2D)    (None, None, None, 1 263168      conv4_block1_2_relu[0][0]        \n",
            "__________________________________________________________________________________________________\n",
            "conv4_block1_0_bn (BatchNormali (None, None, None, 1 4096        conv4_block1_0_conv[0][0]        \n",
            "__________________________________________________________________________________________________\n",
            "conv4_block1_3_bn (BatchNormali (None, None, None, 1 4096        conv4_block1_3_conv[0][0]        \n",
            "__________________________________________________________________________________________________\n",
            "conv4_block1_add (Add)          (None, None, None, 1 0           conv4_block1_0_bn[0][0]          \n",
            "                                                                 conv4_block1_3_bn[0][0]          \n",
            "__________________________________________________________________________________________________\n",
            "conv4_block1_out (Activation)   (None, None, None, 1 0           conv4_block1_add[0][0]           \n",
            "__________________________________________________________________________________________________\n",
            "conv4_block2_1_conv (Conv2D)    (None, None, None, 2 262400      conv4_block1_out[0][0]           \n",
            "__________________________________________________________________________________________________\n",
            "conv4_block2_1_bn (BatchNormali (None, None, None, 2 1024        conv4_block2_1_conv[0][0]        \n",
            "__________________________________________________________________________________________________\n",
            "conv4_block2_1_relu (Activation (None, None, None, 2 0           conv4_block2_1_bn[0][0]          \n",
            "__________________________________________________________________________________________________\n",
            "conv4_block2_2_conv (Conv2D)    (None, None, None, 2 590080      conv4_block2_1_relu[0][0]        \n",
            "__________________________________________________________________________________________________\n",
            "conv4_block2_2_bn (BatchNormali (None, None, None, 2 1024        conv4_block2_2_conv[0][0]        \n",
            "__________________________________________________________________________________________________\n",
            "conv4_block2_2_relu (Activation (None, None, None, 2 0           conv4_block2_2_bn[0][0]          \n",
            "__________________________________________________________________________________________________\n",
            "conv4_block2_3_conv (Conv2D)    (None, None, None, 1 263168      conv4_block2_2_relu[0][0]        \n",
            "__________________________________________________________________________________________________\n",
            "conv4_block2_3_bn (BatchNormali (None, None, None, 1 4096        conv4_block2_3_conv[0][0]        \n",
            "__________________________________________________________________________________________________\n",
            "conv4_block2_add (Add)          (None, None, None, 1 0           conv4_block1_out[0][0]           \n",
            "                                                                 conv4_block2_3_bn[0][0]          \n",
            "__________________________________________________________________________________________________\n",
            "conv4_block2_out (Activation)   (None, None, None, 1 0           conv4_block2_add[0][0]           \n",
            "__________________________________________________________________________________________________\n",
            "conv4_block3_1_conv (Conv2D)    (None, None, None, 2 262400      conv4_block2_out[0][0]           \n",
            "__________________________________________________________________________________________________\n",
            "conv4_block3_1_bn (BatchNormali (None, None, None, 2 1024        conv4_block3_1_conv[0][0]        \n",
            "__________________________________________________________________________________________________\n",
            "conv4_block3_1_relu (Activation (None, None, None, 2 0           conv4_block3_1_bn[0][0]          \n",
            "__________________________________________________________________________________________________\n",
            "conv4_block3_2_conv (Conv2D)    (None, None, None, 2 590080      conv4_block3_1_relu[0][0]        \n",
            "__________________________________________________________________________________________________\n",
            "conv4_block3_2_bn (BatchNormali (None, None, None, 2 1024        conv4_block3_2_conv[0][0]        \n",
            "__________________________________________________________________________________________________\n",
            "conv4_block3_2_relu (Activation (None, None, None, 2 0           conv4_block3_2_bn[0][0]          \n",
            "__________________________________________________________________________________________________\n",
            "conv4_block3_3_conv (Conv2D)    (None, None, None, 1 263168      conv4_block3_2_relu[0][0]        \n",
            "__________________________________________________________________________________________________\n",
            "conv4_block3_3_bn (BatchNormali (None, None, None, 1 4096        conv4_block3_3_conv[0][0]        \n",
            "__________________________________________________________________________________________________\n",
            "conv4_block3_add (Add)          (None, None, None, 1 0           conv4_block2_out[0][0]           \n",
            "                                                                 conv4_block3_3_bn[0][0]          \n",
            "__________________________________________________________________________________________________\n",
            "conv4_block3_out (Activation)   (None, None, None, 1 0           conv4_block3_add[0][0]           \n",
            "__________________________________________________________________________________________________\n",
            "conv4_block4_1_conv (Conv2D)    (None, None, None, 2 262400      conv4_block3_out[0][0]           \n",
            "__________________________________________________________________________________________________\n",
            "conv4_block4_1_bn (BatchNormali (None, None, None, 2 1024        conv4_block4_1_conv[0][0]        \n",
            "__________________________________________________________________________________________________\n",
            "conv4_block4_1_relu (Activation (None, None, None, 2 0           conv4_block4_1_bn[0][0]          \n",
            "__________________________________________________________________________________________________\n",
            "conv4_block4_2_conv (Conv2D)    (None, None, None, 2 590080      conv4_block4_1_relu[0][0]        \n",
            "__________________________________________________________________________________________________\n",
            "conv4_block4_2_bn (BatchNormali (None, None, None, 2 1024        conv4_block4_2_conv[0][0]        \n",
            "__________________________________________________________________________________________________\n",
            "conv4_block4_2_relu (Activation (None, None, None, 2 0           conv4_block4_2_bn[0][0]          \n",
            "__________________________________________________________________________________________________\n",
            "conv4_block4_3_conv (Conv2D)    (None, None, None, 1 263168      conv4_block4_2_relu[0][0]        \n",
            "__________________________________________________________________________________________________\n",
            "conv4_block4_3_bn (BatchNormali (None, None, None, 1 4096        conv4_block4_3_conv[0][0]        \n",
            "__________________________________________________________________________________________________\n",
            "conv4_block4_add (Add)          (None, None, None, 1 0           conv4_block3_out[0][0]           \n",
            "                                                                 conv4_block4_3_bn[0][0]          \n",
            "__________________________________________________________________________________________________\n",
            "conv4_block4_out (Activation)   (None, None, None, 1 0           conv4_block4_add[0][0]           \n",
            "__________________________________________________________________________________________________\n",
            "conv4_block5_1_conv (Conv2D)    (None, None, None, 2 262400      conv4_block4_out[0][0]           \n",
            "__________________________________________________________________________________________________\n",
            "conv4_block5_1_bn (BatchNormali (None, None, None, 2 1024        conv4_block5_1_conv[0][0]        \n",
            "__________________________________________________________________________________________________\n",
            "conv4_block5_1_relu (Activation (None, None, None, 2 0           conv4_block5_1_bn[0][0]          \n",
            "__________________________________________________________________________________________________\n",
            "conv4_block5_2_conv (Conv2D)    (None, None, None, 2 590080      conv4_block5_1_relu[0][0]        \n",
            "__________________________________________________________________________________________________\n",
            "conv4_block5_2_bn (BatchNormali (None, None, None, 2 1024        conv4_block5_2_conv[0][0]        \n",
            "__________________________________________________________________________________________________\n",
            "conv4_block5_2_relu (Activation (None, None, None, 2 0           conv4_block5_2_bn[0][0]          \n",
            "__________________________________________________________________________________________________\n",
            "conv4_block5_3_conv (Conv2D)    (None, None, None, 1 263168      conv4_block5_2_relu[0][0]        \n",
            "__________________________________________________________________________________________________\n",
            "conv4_block5_3_bn (BatchNormali (None, None, None, 1 4096        conv4_block5_3_conv[0][0]        \n",
            "__________________________________________________________________________________________________\n",
            "conv4_block5_add (Add)          (None, None, None, 1 0           conv4_block4_out[0][0]           \n",
            "                                                                 conv4_block5_3_bn[0][0]          \n",
            "__________________________________________________________________________________________________\n",
            "conv4_block5_out (Activation)   (None, None, None, 1 0           conv4_block5_add[0][0]           \n",
            "__________________________________________________________________________________________________\n",
            "conv4_block6_1_conv (Conv2D)    (None, None, None, 2 262400      conv4_block5_out[0][0]           \n",
            "__________________________________________________________________________________________________\n",
            "conv4_block6_1_bn (BatchNormali (None, None, None, 2 1024        conv4_block6_1_conv[0][0]        \n",
            "__________________________________________________________________________________________________\n",
            "conv4_block6_1_relu (Activation (None, None, None, 2 0           conv4_block6_1_bn[0][0]          \n",
            "__________________________________________________________________________________________________\n",
            "conv4_block6_2_conv (Conv2D)    (None, None, None, 2 590080      conv4_block6_1_relu[0][0]        \n",
            "__________________________________________________________________________________________________\n",
            "conv4_block6_2_bn (BatchNormali (None, None, None, 2 1024        conv4_block6_2_conv[0][0]        \n",
            "__________________________________________________________________________________________________\n",
            "conv4_block6_2_relu (Activation (None, None, None, 2 0           conv4_block6_2_bn[0][0]          \n",
            "__________________________________________________________________________________________________\n",
            "conv4_block6_3_conv (Conv2D)    (None, None, None, 1 263168      conv4_block6_2_relu[0][0]        \n",
            "__________________________________________________________________________________________________\n",
            "conv4_block6_3_bn (BatchNormali (None, None, None, 1 4096        conv4_block6_3_conv[0][0]        \n",
            "__________________________________________________________________________________________________\n",
            "conv4_block6_add (Add)          (None, None, None, 1 0           conv4_block5_out[0][0]           \n",
            "                                                                 conv4_block6_3_bn[0][0]          \n",
            "__________________________________________________________________________________________________\n",
            "conv4_block6_out (Activation)   (None, None, None, 1 0           conv4_block6_add[0][0]           \n",
            "__________________________________________________________________________________________________\n",
            "conv5_block1_1_conv (Conv2D)    (None, None, None, 5 524800      conv4_block6_out[0][0]           \n",
            "__________________________________________________________________________________________________\n",
            "conv5_block1_1_bn (BatchNormali (None, None, None, 5 2048        conv5_block1_1_conv[0][0]        \n",
            "__________________________________________________________________________________________________\n",
            "conv5_block1_1_relu (Activation (None, None, None, 5 0           conv5_block1_1_bn[0][0]          \n",
            "__________________________________________________________________________________________________\n",
            "conv5_block1_2_conv (Conv2D)    (None, None, None, 5 2359808     conv5_block1_1_relu[0][0]        \n",
            "__________________________________________________________________________________________________\n",
            "conv5_block1_2_bn (BatchNormali (None, None, None, 5 2048        conv5_block1_2_conv[0][0]        \n",
            "__________________________________________________________________________________________________\n",
            "conv5_block1_2_relu (Activation (None, None, None, 5 0           conv5_block1_2_bn[0][0]          \n",
            "__________________________________________________________________________________________________\n",
            "conv5_block1_0_conv (Conv2D)    (None, None, None, 2 2099200     conv4_block6_out[0][0]           \n",
            "__________________________________________________________________________________________________\n",
            "conv5_block1_3_conv (Conv2D)    (None, None, None, 2 1050624     conv5_block1_2_relu[0][0]        \n",
            "__________________________________________________________________________________________________\n",
            "conv5_block1_0_bn (BatchNormali (None, None, None, 2 8192        conv5_block1_0_conv[0][0]        \n",
            "__________________________________________________________________________________________________\n",
            "conv5_block1_3_bn (BatchNormali (None, None, None, 2 8192        conv5_block1_3_conv[0][0]        \n",
            "__________________________________________________________________________________________________\n",
            "conv5_block1_add (Add)          (None, None, None, 2 0           conv5_block1_0_bn[0][0]          \n",
            "                                                                 conv5_block1_3_bn[0][0]          \n",
            "__________________________________________________________________________________________________\n",
            "conv5_block1_out (Activation)   (None, None, None, 2 0           conv5_block1_add[0][0]           \n",
            "__________________________________________________________________________________________________\n",
            "conv5_block2_1_conv (Conv2D)    (None, None, None, 5 1049088     conv5_block1_out[0][0]           \n",
            "__________________________________________________________________________________________________\n",
            "conv5_block2_1_bn (BatchNormali (None, None, None, 5 2048        conv5_block2_1_conv[0][0]        \n",
            "__________________________________________________________________________________________________\n",
            "conv5_block2_1_relu (Activation (None, None, None, 5 0           conv5_block2_1_bn[0][0]          \n",
            "__________________________________________________________________________________________________\n",
            "conv5_block2_2_conv (Conv2D)    (None, None, None, 5 2359808     conv5_block2_1_relu[0][0]        \n",
            "__________________________________________________________________________________________________\n",
            "conv5_block2_2_bn (BatchNormali (None, None, None, 5 2048        conv5_block2_2_conv[0][0]        \n",
            "__________________________________________________________________________________________________\n",
            "conv5_block2_2_relu (Activation (None, None, None, 5 0           conv5_block2_2_bn[0][0]          \n",
            "__________________________________________________________________________________________________\n",
            "conv5_block2_3_conv (Conv2D)    (None, None, None, 2 1050624     conv5_block2_2_relu[0][0]        \n",
            "__________________________________________________________________________________________________\n",
            "conv5_block2_3_bn (BatchNormali (None, None, None, 2 8192        conv5_block2_3_conv[0][0]        \n",
            "__________________________________________________________________________________________________\n",
            "conv5_block2_add (Add)          (None, None, None, 2 0           conv5_block1_out[0][0]           \n",
            "                                                                 conv5_block2_3_bn[0][0]          \n",
            "__________________________________________________________________________________________________\n",
            "conv5_block2_out (Activation)   (None, None, None, 2 0           conv5_block2_add[0][0]           \n",
            "__________________________________________________________________________________________________\n",
            "conv5_block3_1_conv (Conv2D)    (None, None, None, 5 1049088     conv5_block2_out[0][0]           \n",
            "__________________________________________________________________________________________________\n",
            "conv5_block3_1_bn (BatchNormali (None, None, None, 5 2048        conv5_block3_1_conv[0][0]        \n",
            "__________________________________________________________________________________________________\n",
            "conv5_block3_1_relu (Activation (None, None, None, 5 0           conv5_block3_1_bn[0][0]          \n",
            "__________________________________________________________________________________________________\n",
            "conv5_block3_2_conv (Conv2D)    (None, None, None, 5 2359808     conv5_block3_1_relu[0][0]        \n",
            "__________________________________________________________________________________________________\n",
            "conv5_block3_2_bn (BatchNormali (None, None, None, 5 2048        conv5_block3_2_conv[0][0]        \n",
            "__________________________________________________________________________________________________\n",
            "conv5_block3_2_relu (Activation (None, None, None, 5 0           conv5_block3_2_bn[0][0]          \n",
            "__________________________________________________________________________________________________\n",
            "conv5_block3_3_conv (Conv2D)    (None, None, None, 2 1050624     conv5_block3_2_relu[0][0]        \n",
            "__________________________________________________________________________________________________\n",
            "conv5_block3_3_bn (BatchNormali (None, None, None, 2 8192        conv5_block3_3_conv[0][0]        \n",
            "__________________________________________________________________________________________________\n",
            "conv5_block3_add (Add)          (None, None, None, 2 0           conv5_block2_out[0][0]           \n",
            "                                                                 conv5_block3_3_bn[0][0]          \n",
            "__________________________________________________________________________________________________\n",
            "conv5_block3_out (Activation)   (None, None, None, 2 0           conv5_block3_add[0][0]           \n",
            "==================================================================================================\n",
            "Total params: 23,587,712\n",
            "Trainable params: 23,534,592\n",
            "Non-trainable params: 53,120\n",
            "__________________________________________________________________________________________________\n"
          ],
          "name": "stdout"
        }
      ]
    },
    {
      "cell_type": "code",
      "metadata": {
        "id": "ab2JwZ1UUcXX",
        "colab_type": "code",
        "colab": {}
      },
      "source": [
        "# Disable further training\n",
        "for layer in resnet.layers:\n",
        "    layer.trainable = False"
      ],
      "execution_count": 0,
      "outputs": []
    },
    {
      "cell_type": "code",
      "metadata": {
        "id": "B6YtUCDBUgjU",
        "colab_type": "code",
        "colab": {}
      },
      "source": [
        "# Re-add dense layers (explained above)\n",
        "x = resnet.output\n",
        "x = GlobalAveragePooling2D()(x) # This layer is a really fancy flatten\n",
        "x = Dense(1024, activation='relu')(x)\n",
        "predictions = Dense(1, activation='sigmoid')(x)\n",
        "model = Model(resnet.input, predictions)"
      ],
      "execution_count": 0,
      "outputs": []
    },
    {
      "cell_type": "code",
      "metadata": {
        "id": "fA1gdcJwY1Wo",
        "colab_type": "code",
        "colab": {}
      },
      "source": [
        "model.compile(optimizer='adam', loss='binary_crossentropy', \n",
        "              metrics=['accuracy'])"
      ],
      "execution_count": 0,
      "outputs": []
    },
    {
      "cell_type": "markdown",
      "metadata": {
        "id": "tlJEtoHxIW-K",
        "colab_type": "text"
      },
      "source": [
        "## Fit Model"
      ]
    },
    {
      "cell_type": "code",
      "metadata": {
        "id": "64x485n_IW-K",
        "colab_type": "code",
        "colab": {
          "base_uri": "https://localhost:8080/",
          "height": 1000
        },
        "outputId": "42805423-0e45-4f08-d570-f6cbe2096b23"
      },
      "source": [
        "history = model.fit(\n",
        "    train_data_gen,\n",
        "    steps_per_epoch=total_train // batch_size,\n",
        "    epochs=epochs,\n",
        "    validation_data=val_data_gen,\n",
        "    validation_steps=total_val // batch_size\n",
        ")"
      ],
      "execution_count": 23,
      "outputs": [
        {
          "output_type": "stream",
          "text": [
            "Epoch 1/50\n",
            "32/32 [==============================] - 4s 131ms/step - loss: 0.7856 - accuracy: 0.5469 - val_loss: 0.6346 - val_accuracy: 0.6761\n",
            "Epoch 2/50\n",
            "32/32 [==============================] - 4s 117ms/step - loss: 0.6502 - accuracy: 0.6287 - val_loss: 0.6722 - val_accuracy: 0.5706\n",
            "Epoch 3/50\n",
            "32/32 [==============================] - 3s 103ms/step - loss: 0.5361 - accuracy: 0.7345 - val_loss: 0.4928 - val_accuracy: 0.8589\n",
            "Epoch 4/50\n",
            "32/32 [==============================] - 3s 103ms/step - loss: 0.4638 - accuracy: 0.7884 - val_loss: 0.5065 - val_accuracy: 0.8282\n",
            "Epoch 5/50\n",
            "32/32 [==============================] - 3s 104ms/step - loss: 0.4572 - accuracy: 0.8064 - val_loss: 0.4055 - val_accuracy: 0.8896\n",
            "Epoch 6/50\n",
            "32/32 [==============================] - 3s 102ms/step - loss: 0.4706 - accuracy: 0.7565 - val_loss: 0.4721 - val_accuracy: 0.7853\n",
            "Epoch 7/50\n",
            "32/32 [==============================] - 3s 102ms/step - loss: 0.3534 - accuracy: 0.8942 - val_loss: 0.4148 - val_accuracy: 0.8589\n",
            "Epoch 8/50\n",
            "32/32 [==============================] - 3s 103ms/step - loss: 0.3237 - accuracy: 0.8942 - val_loss: 0.4169 - val_accuracy: 0.8405\n",
            "Epoch 9/50\n",
            "32/32 [==============================] - 3s 103ms/step - loss: 0.2993 - accuracy: 0.8982 - val_loss: 0.3775 - val_accuracy: 0.7546\n",
            "Epoch 10/50\n",
            "32/32 [==============================] - 3s 103ms/step - loss: 0.3284 - accuracy: 0.8762 - val_loss: 0.4875 - val_accuracy: 0.7853\n",
            "Epoch 11/50\n",
            "32/32 [==============================] - 3s 103ms/step - loss: 0.3743 - accuracy: 0.8104 - val_loss: 0.3753 - val_accuracy: 0.8282\n",
            "Epoch 12/50\n",
            "32/32 [==============================] - 3s 102ms/step - loss: 0.2854 - accuracy: 0.9202 - val_loss: 0.3870 - val_accuracy: 0.8344\n",
            "Epoch 13/50\n",
            "32/32 [==============================] - 3s 104ms/step - loss: 0.2296 - accuracy: 0.9261 - val_loss: 0.2774 - val_accuracy: 0.9091\n",
            "Epoch 14/50\n",
            "32/32 [==============================] - 3s 104ms/step - loss: 0.2664 - accuracy: 0.9022 - val_loss: 0.5700 - val_accuracy: 0.7386\n",
            "Epoch 15/50\n",
            "32/32 [==============================] - 3s 103ms/step - loss: 0.2196 - accuracy: 0.9361 - val_loss: 0.2341 - val_accuracy: 0.9202\n",
            "Epoch 16/50\n",
            "32/32 [==============================] - 3s 103ms/step - loss: 0.2678 - accuracy: 0.8802 - val_loss: 0.4366 - val_accuracy: 0.7853\n",
            "Epoch 17/50\n",
            "32/32 [==============================] - 3s 103ms/step - loss: 0.3691 - accuracy: 0.8343 - val_loss: 0.7077 - val_accuracy: 0.6196\n",
            "Epoch 18/50\n",
            "32/32 [==============================] - 3s 104ms/step - loss: 0.2837 - accuracy: 0.8770 - val_loss: 0.2821 - val_accuracy: 0.9141\n",
            "Epoch 19/50\n",
            "32/32 [==============================] - 3s 102ms/step - loss: 0.2580 - accuracy: 0.8942 - val_loss: 0.3440 - val_accuracy: 0.8405\n",
            "Epoch 20/50\n",
            "32/32 [==============================] - 3s 102ms/step - loss: 0.2015 - accuracy: 0.9242 - val_loss: 0.3302 - val_accuracy: 0.8834\n",
            "Epoch 21/50\n",
            "32/32 [==============================] - 3s 102ms/step - loss: 0.2866 - accuracy: 0.8643 - val_loss: 0.3501 - val_accuracy: 0.8528\n",
            "Epoch 22/50\n",
            "32/32 [==============================] - 3s 103ms/step - loss: 0.1693 - accuracy: 0.9381 - val_loss: 0.2061 - val_accuracy: 0.9325\n",
            "Epoch 23/50\n",
            "32/32 [==============================] - 3s 102ms/step - loss: 0.1487 - accuracy: 0.9561 - val_loss: 0.2336 - val_accuracy: 0.9202\n",
            "Epoch 24/50\n",
            "32/32 [==============================] - 3s 103ms/step - loss: 0.1700 - accuracy: 0.9421 - val_loss: 0.1781 - val_accuracy: 0.9387\n",
            "Epoch 25/50\n",
            "32/32 [==============================] - 3s 102ms/step - loss: 0.1803 - accuracy: 0.9261 - val_loss: 0.2107 - val_accuracy: 0.9202\n",
            "Epoch 26/50\n",
            "32/32 [==============================] - 3s 104ms/step - loss: 0.1530 - accuracy: 0.9581 - val_loss: 0.2005 - val_accuracy: 0.9432\n",
            "Epoch 27/50\n",
            "32/32 [==============================] - 3s 103ms/step - loss: 0.1364 - accuracy: 0.9621 - val_loss: 0.2036 - val_accuracy: 0.9432\n",
            "Epoch 28/50\n",
            "32/32 [==============================] - 3s 102ms/step - loss: 0.1517 - accuracy: 0.9421 - val_loss: 0.2601 - val_accuracy: 0.9018\n",
            "Epoch 29/50\n",
            "32/32 [==============================] - 3s 103ms/step - loss: 0.1086 - accuracy: 0.9641 - val_loss: 0.1495 - val_accuracy: 0.9509\n",
            "Epoch 30/50\n",
            "32/32 [==============================] - 3s 102ms/step - loss: 0.1369 - accuracy: 0.9541 - val_loss: 0.2858 - val_accuracy: 0.8896\n",
            "Epoch 31/50\n",
            "32/32 [==============================] - 3s 102ms/step - loss: 0.1307 - accuracy: 0.9601 - val_loss: 0.3038 - val_accuracy: 0.8896\n",
            "Epoch 32/50\n",
            "32/32 [==============================] - 3s 102ms/step - loss: 0.0991 - accuracy: 0.9681 - val_loss: 0.3129 - val_accuracy: 0.9018\n",
            "Epoch 33/50\n",
            "32/32 [==============================] - 3s 104ms/step - loss: 0.1272 - accuracy: 0.9601 - val_loss: 0.1825 - val_accuracy: 0.9448\n",
            "Epoch 34/50\n",
            "32/32 [==============================] - 3s 103ms/step - loss: 0.1275 - accuracy: 0.9501 - val_loss: 0.2795 - val_accuracy: 0.8405\n",
            "Epoch 35/50\n",
            "32/32 [==============================] - 3s 103ms/step - loss: 0.1258 - accuracy: 0.9473 - val_loss: 0.1885 - val_accuracy: 0.9325\n",
            "Epoch 36/50\n",
            "32/32 [==============================] - 3s 102ms/step - loss: 0.1052 - accuracy: 0.9721 - val_loss: 0.3589 - val_accuracy: 0.8712\n",
            "Epoch 37/50\n",
            "32/32 [==============================] - 3s 103ms/step - loss: 0.0884 - accuracy: 0.9741 - val_loss: 0.3305 - val_accuracy: 0.8589\n",
            "Epoch 38/50\n",
            "32/32 [==============================] - 3s 103ms/step - loss: 0.1023 - accuracy: 0.9581 - val_loss: 0.3776 - val_accuracy: 0.8712\n",
            "Epoch 39/50\n",
            "32/32 [==============================] - 3s 104ms/step - loss: 0.1403 - accuracy: 0.9521 - val_loss: 0.1889 - val_accuracy: 0.9375\n",
            "Epoch 40/50\n",
            "32/32 [==============================] - 3s 104ms/step - loss: 0.1183 - accuracy: 0.9501 - val_loss: 0.1921 - val_accuracy: 0.9432\n",
            "Epoch 41/50\n",
            "32/32 [==============================] - 3s 101ms/step - loss: 0.0839 - accuracy: 0.9780 - val_loss: 0.1606 - val_accuracy: 0.9509\n",
            "Epoch 42/50\n",
            "32/32 [==============================] - 3s 102ms/step - loss: 0.0999 - accuracy: 0.9661 - val_loss: 0.7868 - val_accuracy: 0.7607\n",
            "Epoch 43/50\n",
            "32/32 [==============================] - 3s 103ms/step - loss: 0.1345 - accuracy: 0.9501 - val_loss: 0.1924 - val_accuracy: 0.8957\n",
            "Epoch 44/50\n",
            "32/32 [==============================] - 3s 103ms/step - loss: 0.1009 - accuracy: 0.9601 - val_loss: 0.2441 - val_accuracy: 0.9264\n",
            "Epoch 45/50\n",
            "32/32 [==============================] - 3s 102ms/step - loss: 0.0720 - accuracy: 0.9741 - val_loss: 0.1715 - val_accuracy: 0.9141\n",
            "Epoch 46/50\n",
            "32/32 [==============================] - 3s 102ms/step - loss: 0.0821 - accuracy: 0.9701 - val_loss: 0.2923 - val_accuracy: 0.9387\n",
            "Epoch 47/50\n",
            "32/32 [==============================] - 3s 103ms/step - loss: 0.0719 - accuracy: 0.9760 - val_loss: 0.2864 - val_accuracy: 0.8896\n",
            "Epoch 48/50\n",
            "32/32 [==============================] - 3s 102ms/step - loss: 0.0696 - accuracy: 0.9840 - val_loss: 0.2216 - val_accuracy: 0.9387\n",
            "Epoch 49/50\n",
            "32/32 [==============================] - 3s 102ms/step - loss: 0.0687 - accuracy: 0.9800 - val_loss: 0.1587 - val_accuracy: 0.9387\n",
            "Epoch 50/50\n",
            "32/32 [==============================] - 3s 102ms/step - loss: 0.0705 - accuracy: 0.9780 - val_loss: 0.1661 - val_accuracy: 0.9448\n"
          ],
          "name": "stdout"
        }
      ]
    },
    {
      "cell_type": "code",
      "metadata": {
        "id": "-l4W13abeWuq",
        "colab_type": "code",
        "colab": {
          "base_uri": "https://localhost:8080/",
          "height": 295
        },
        "outputId": "aedbdfe3-8b29-43ed-9721-fc0cdc615b06"
      },
      "source": [
        "import matplotlib.pyplot as plt\n",
        "\n",
        "# Graph accuracy over time\n",
        "eps = range(len(history.history['accuracy']))\n",
        "plt.plot(eps, history.history['accuracy'], label='Train')\n",
        "plt.plot(eps, history.history['val_accuracy'], label='Test')\n",
        "\n",
        "plt.title('Accuracy over time')\n",
        "plt.xlabel('Epochs')\n",
        "plt.ylabel('Classification Accuracy')\n",
        "plt.legend()\n",
        "plt.show()"
      ],
      "execution_count": 29,
      "outputs": [
        {
          "output_type": "display_data",
          "data": {
            "image/png": "[encoded data removed]",
            "text/plain": [
              "<Figure size 432x288 with 1 Axes>"
            ]
          },
          "metadata": {
            "tags": [],
            "needs_background": "light"
          }
        }
      ]
    },
    {
      "cell_type": "markdown",
      "metadata": {
        "id": "CjACgUSJIW-M",
        "colab_type": "text"
      },
      "source": [
        "# Custom CNN Model\n",
        "\n",
        "In this step, write and train your own convolutional neural network using Keras. You can use any architecture that suits you as long as it has at least one convolutional and one pooling layer at the beginning of the network - you can add more if you want. "
      ]
    },
    {
      "cell_type": "code",
      "metadata": {
        "id": "g48CMS1xIW-N",
        "colab_type": "code",
        "colab": {}
      },
      "source": [
        "from tensorflow.keras.models import Sequential\n",
        "from tensorflow.keras.layers import Conv2D, MaxPooling2D, Flatten, Dense\n",
        "\n",
        "# Define the Model\n",
        "model = Sequential()\n",
        "model.add(Conv2D(32, (3,3), activation='relu', \n",
        "                 input_shape=(IMG_HEIGHT,IMG_WIDTH,CHNLS)))\n",
        "model.add(MaxPooling2D((2,2)))\n",
        "model.add(Conv2D(64, (3,3), activation='relu'))\n",
        "model.add(Flatten())\n",
        "model.add(Dense(64, activation='relu'))\n",
        "model.add(Dense(1, activation='sigmoid'))"
      ],
      "execution_count": 0,
      "outputs": []
    },
    {
      "cell_type": "code",
      "metadata": {
        "id": "W1244JyDIW-R",
        "colab_type": "code",
        "colab": {}
      },
      "source": [
        "# Compile Model\n",
        "model.compile(optimizer='adam', loss='binary_crossentropy', \n",
        "              metrics=['accuracy'])\n",
        "\n",
        "# Set up early stopping\n",
        "from tensorflow.keras.callbacks import EarlyStopping\n",
        "\n",
        "early_stop = EarlyStopping(monitor='val_loss',\n",
        "                           min_delta=.01, patience=3)"
      ],
      "execution_count": 0,
      "outputs": []
    },
    {
      "cell_type": "code",
      "metadata": {
        "id": "nELIMSKaIW-T",
        "colab_type": "code",
        "colab": {
          "base_uri": "https://localhost:8080/",
          "height": 255
        },
        "outputId": "c91c8e09-ca02-4d9a-a352-3d179133b486"
      },
      "source": [
        "import matplotlib.pyplot as plt\n",
        "\n",
        "# Fit Model\n",
        "history = model.fit(\n",
        "    train_data_gen,\n",
        "    steps_per_epoch=total_train // batch_size,\n",
        "    epochs=epochs,\n",
        "    validation_data=val_data_gen,\n",
        "    validation_steps=total_val // batch_size,\n",
        "    callbacks=[early_stop]\n",
        ")"
      ],
      "execution_count": 16,
      "outputs": [
        {
          "output_type": "stream",
          "text": [
            "Epoch 1/50\n",
            "32/32 [==============================] - 2s 70ms/step - loss: 0.9831 - accuracy: 0.8463 - val_loss: 0.1641 - val_accuracy: 0.9264\n",
            "Epoch 2/50\n",
            "32/32 [==============================] - 2s 67ms/step - loss: 0.1939 - accuracy: 0.9341 - val_loss: 0.2658 - val_accuracy: 0.8957\n",
            "Epoch 3/50\n",
            "32/32 [==============================] - 2s 68ms/step - loss: 0.1085 - accuracy: 0.9561 - val_loss: 0.1463 - val_accuracy: 0.9141\n",
            "Epoch 4/50\n",
            "32/32 [==============================] - 2s 68ms/step - loss: 0.0786 - accuracy: 0.9741 - val_loss: 0.0958 - val_accuracy: 0.9693\n",
            "Epoch 5/50\n",
            "32/32 [==============================] - 2s 68ms/step - loss: 0.0229 - accuracy: 0.9920 - val_loss: 0.1769 - val_accuracy: 0.9448\n",
            "Epoch 6/50\n",
            "32/32 [==============================] - 2s 67ms/step - loss: 0.0321 - accuracy: 0.9900 - val_loss: 0.5427 - val_accuracy: 0.8712\n",
            "Epoch 7/50\n",
            "32/32 [==============================] - 2s 69ms/step - loss: 0.0115 - accuracy: 0.9960 - val_loss: 0.1910 - val_accuracy: 0.9387\n"
          ],
          "name": "stdout"
        }
      ]
    },
    {
      "cell_type": "code",
      "metadata": {
        "id": "UfLtiGKLzylL",
        "colab_type": "code",
        "colab": {
          "base_uri": "https://localhost:8080/",
          "height": 295
        },
        "outputId": "02ecb3ad-dd7c-4018-c307-aee86c08124d"
      },
      "source": [
        "# Graph accuracy over time\n",
        "eps = range(len(history.history['accuracy']))\n",
        "plt.plot(eps, history.history['accuracy'], label='Train')\n",
        "plt.plot(eps, history.history['val_accuracy'], label='Test')\n",
        "\n",
        "plt.title('Accuracy over time')\n",
        "plt.xlabel('Epochs')\n",
        "plt.ylabel('Classification Accuracy')\n",
        "plt.legend()\n",
        "plt.show()"
      ],
      "execution_count": 17,
      "outputs": [
        {
          "output_type": "display_data",
          "data": {
            "image/png": "[encoded data removed]",
            "text/plain": [
              "<Figure size 432x288 with 1 Axes>"
            ]
          },
          "metadata": {
            "tags": [],
            "needs_background": "light"
          }
        }
      ]
    },
    {
      "cell_type": "code",
      "metadata": {
        "id": "docbqqCL08zt",
        "colab_type": "code",
        "colab": {
          "base_uri": "https://localhost:8080/",
          "height": 1000
        },
        "outputId": "b9e96933-4ec8-4c92-e131-5cbfdf9727a6"
      },
      "source": [
        "# Fitting without early stop, just to test\n",
        "history = model.fit(\n",
        "    train_data_gen,\n",
        "    steps_per_epoch=total_train // batch_size,\n",
        "    epochs=epochs,\n",
        "    validation_data=val_data_gen,\n",
        "    validation_steps=total_val // batch_size\n",
        ")"
      ],
      "execution_count": 22,
      "outputs": [
        {
          "output_type": "stream",
          "text": [
            "Epoch 1/50\n",
            "32/32 [==============================] - 2s 71ms/step - loss: 2.4580 - accuracy: 0.7405 - val_loss: 0.3126 - val_accuracy: 0.8896\n",
            "Epoch 2/50\n",
            "32/32 [==============================] - 2s 68ms/step - loss: 0.2676 - accuracy: 0.9042 - val_loss: 0.2121 - val_accuracy: 0.9261\n",
            "Epoch 3/50\n",
            "32/32 [==============================] - 2s 68ms/step - loss: 0.2005 - accuracy: 0.9321 - val_loss: 0.1599 - val_accuracy: 0.9375\n",
            "Epoch 4/50\n",
            "32/32 [==============================] - 2s 68ms/step - loss: 0.0663 - accuracy: 0.9760 - val_loss: 0.1692 - val_accuracy: 0.9448\n",
            "Epoch 5/50\n",
            "32/32 [==============================] - 2s 68ms/step - loss: 0.0351 - accuracy: 0.9920 - val_loss: 0.2735 - val_accuracy: 0.9387\n",
            "Epoch 6/50\n",
            "32/32 [==============================] - 2s 68ms/step - loss: 0.0174 - accuracy: 0.9960 - val_loss: 0.1304 - val_accuracy: 0.9448\n",
            "Epoch 7/50\n",
            "32/32 [==============================] - 2s 67ms/step - loss: 0.0263 - accuracy: 0.9920 - val_loss: 0.3155 - val_accuracy: 0.9325\n",
            "Epoch 8/50\n",
            "32/32 [==============================] - 2s 67ms/step - loss: 0.0064 - accuracy: 0.9980 - val_loss: 0.6815 - val_accuracy: 0.8773\n",
            "Epoch 9/50\n",
            "32/32 [==============================] - 2s 68ms/step - loss: 0.0426 - accuracy: 0.9940 - val_loss: 0.2530 - val_accuracy: 0.9448\n",
            "Epoch 10/50\n",
            "32/32 [==============================] - 2s 67ms/step - loss: 0.0321 - accuracy: 0.9900 - val_loss: 0.2282 - val_accuracy: 0.9387\n",
            "Epoch 11/50\n",
            "32/32 [==============================] - 2s 67ms/step - loss: 0.0264 - accuracy: 0.9880 - val_loss: 0.3308 - val_accuracy: 0.9387\n",
            "Epoch 12/50\n",
            "32/32 [==============================] - 2s 68ms/step - loss: 0.0014 - accuracy: 1.0000 - val_loss: 0.3791 - val_accuracy: 0.9387\n",
            "Epoch 13/50\n",
            "32/32 [==============================] - 2s 67ms/step - loss: 0.0615 - accuracy: 0.9860 - val_loss: 0.4540 - val_accuracy: 0.8528\n",
            "Epoch 14/50\n",
            "32/32 [==============================] - 2s 67ms/step - loss: 0.1256 - accuracy: 0.9661 - val_loss: 0.2186 - val_accuracy: 0.9325\n",
            "Epoch 15/50\n",
            "32/32 [==============================] - 2s 67ms/step - loss: 0.0190 - accuracy: 0.9960 - val_loss: 0.1571 - val_accuracy: 0.9602\n",
            "Epoch 16/50\n",
            "32/32 [==============================] - 2s 68ms/step - loss: 0.0046 - accuracy: 1.0000 - val_loss: 0.1760 - val_accuracy: 0.9602\n",
            "Epoch 17/50\n",
            "32/32 [==============================] - 2s 67ms/step - loss: 0.0014 - accuracy: 1.0000 - val_loss: 0.2444 - val_accuracy: 0.9632\n",
            "Epoch 18/50\n",
            "32/32 [==============================] - 2s 67ms/step - loss: 1.4261e-04 - accuracy: 1.0000 - val_loss: 0.4139 - val_accuracy: 0.9448\n",
            "Epoch 19/50\n",
            "32/32 [==============================] - 2s 68ms/step - loss: 7.7214e-05 - accuracy: 1.0000 - val_loss: 0.2365 - val_accuracy: 0.9571\n",
            "Epoch 20/50\n",
            "32/32 [==============================] - 2s 68ms/step - loss: 5.0498e-05 - accuracy: 1.0000 - val_loss: 0.2625 - val_accuracy: 0.9693\n",
            "Epoch 21/50\n",
            "32/32 [==============================] - 2s 68ms/step - loss: 4.6228e-05 - accuracy: 1.0000 - val_loss: 0.4156 - val_accuracy: 0.9387\n",
            "Epoch 22/50\n",
            "32/32 [==============================] - 2s 68ms/step - loss: 4.4332e-05 - accuracy: 1.0000 - val_loss: 0.3331 - val_accuracy: 0.9693\n",
            "Epoch 23/50\n",
            "32/32 [==============================] - 2s 67ms/step - loss: 2.8617e-05 - accuracy: 1.0000 - val_loss: 0.6566 - val_accuracy: 0.9632\n",
            "Epoch 24/50\n",
            "32/32 [==============================] - 2s 67ms/step - loss: 2.7140e-05 - accuracy: 1.0000 - val_loss: 0.4499 - val_accuracy: 0.9509\n",
            "Epoch 25/50\n",
            "32/32 [==============================] - 2s 69ms/step - loss: 2.5789e-05 - accuracy: 1.0000 - val_loss: 0.3079 - val_accuracy: 0.9632\n",
            "Epoch 26/50\n",
            "32/32 [==============================] - 2s 68ms/step - loss: 2.2130e-05 - accuracy: 1.0000 - val_loss: 0.3343 - val_accuracy: 0.9693\n",
            "Epoch 27/50\n",
            "32/32 [==============================] - 2s 67ms/step - loss: 1.9820e-05 - accuracy: 1.0000 - val_loss: 0.3599 - val_accuracy: 0.9571\n",
            "Epoch 28/50\n",
            "32/32 [==============================] - 2s 67ms/step - loss: 1.8373e-05 - accuracy: 1.0000 - val_loss: 0.3497 - val_accuracy: 0.9602\n",
            "Epoch 29/50\n",
            "32/32 [==============================] - 2s 68ms/step - loss: 1.8137e-05 - accuracy: 1.0000 - val_loss: 0.4020 - val_accuracy: 0.9602\n",
            "Epoch 30/50\n",
            "32/32 [==============================] - 2s 67ms/step - loss: 1.1823e-05 - accuracy: 1.0000 - val_loss: 0.3114 - val_accuracy: 0.9571\n",
            "Epoch 31/50\n",
            "32/32 [==============================] - 2s 67ms/step - loss: 1.8061e-05 - accuracy: 1.0000 - val_loss: 0.2612 - val_accuracy: 0.9693\n",
            "Epoch 32/50\n",
            "32/32 [==============================] - 2s 68ms/step - loss: 1.4059e-05 - accuracy: 1.0000 - val_loss: 0.3822 - val_accuracy: 0.9509\n",
            "Epoch 33/50\n",
            "32/32 [==============================] - 2s 68ms/step - loss: 1.3340e-05 - accuracy: 1.0000 - val_loss: 0.3326 - val_accuracy: 0.9755\n",
            "Epoch 34/50\n",
            "32/32 [==============================] - 2s 67ms/step - loss: 1.1198e-05 - accuracy: 1.0000 - val_loss: 0.3780 - val_accuracy: 0.9387\n",
            "Epoch 35/50\n",
            "32/32 [==============================] - 2s 67ms/step - loss: 1.1489e-05 - accuracy: 1.0000 - val_loss: 0.3273 - val_accuracy: 0.9755\n",
            "Epoch 36/50\n",
            "32/32 [==============================] - 2s 67ms/step - loss: 1.0854e-05 - accuracy: 1.0000 - val_loss: 0.2241 - val_accuracy: 0.9571\n",
            "Epoch 37/50\n",
            "32/32 [==============================] - 2s 68ms/step - loss: 1.2114e-05 - accuracy: 1.0000 - val_loss: 0.5077 - val_accuracy: 0.9632\n",
            "Epoch 38/50\n",
            "32/32 [==============================] - 2s 68ms/step - loss: 7.2713e-06 - accuracy: 1.0000 - val_loss: 0.2195 - val_accuracy: 0.9632\n",
            "Epoch 39/50\n",
            "32/32 [==============================] - 2s 68ms/step - loss: 1.0242e-05 - accuracy: 1.0000 - val_loss: 0.3488 - val_accuracy: 0.9509\n",
            "Epoch 40/50\n",
            "32/32 [==============================] - 2s 67ms/step - loss: 9.1495e-06 - accuracy: 1.0000 - val_loss: 0.3624 - val_accuracy: 0.9693\n",
            "Epoch 41/50\n",
            "32/32 [==============================] - 2s 68ms/step - loss: 8.5405e-06 - accuracy: 1.0000 - val_loss: 0.3807 - val_accuracy: 0.9602\n",
            "Epoch 42/50\n",
            "32/32 [==============================] - 2s 69ms/step - loss: 8.4662e-06 - accuracy: 1.0000 - val_loss: 0.3817 - val_accuracy: 0.9602\n",
            "Epoch 43/50\n",
            "32/32 [==============================] - 2s 67ms/step - loss: 7.8923e-06 - accuracy: 1.0000 - val_loss: 0.4288 - val_accuracy: 0.9571\n",
            "Epoch 44/50\n",
            "32/32 [==============================] - 2s 67ms/step - loss: 7.9341e-06 - accuracy: 1.0000 - val_loss: 0.4349 - val_accuracy: 0.9448\n",
            "Epoch 45/50\n",
            "32/32 [==============================] - 2s 67ms/step - loss: 6.5244e-06 - accuracy: 1.0000 - val_loss: 0.3456 - val_accuracy: 0.9632\n",
            "Epoch 46/50\n",
            "32/32 [==============================] - 2s 69ms/step - loss: 6.9818e-06 - accuracy: 1.0000 - val_loss: 0.3460 - val_accuracy: 0.9509\n",
            "Epoch 47/50\n",
            "32/32 [==============================] - 2s 68ms/step - loss: 7.3020e-06 - accuracy: 1.0000 - val_loss: 0.2551 - val_accuracy: 0.9755\n",
            "Epoch 48/50\n",
            "32/32 [==============================] - 2s 67ms/step - loss: 6.7861e-06 - accuracy: 1.0000 - val_loss: 0.6089 - val_accuracy: 0.9387\n",
            "Epoch 49/50\n",
            "32/32 [==============================] - 2s 67ms/step - loss: 6.1147e-06 - accuracy: 1.0000 - val_loss: 0.2224 - val_accuracy: 0.9755\n",
            "Epoch 50/50\n",
            "32/32 [==============================] - 2s 67ms/step - loss: 6.8983e-06 - accuracy: 1.0000 - val_loss: 0.3798 - val_accuracy: 0.9571\n"
          ],
          "name": "stdout"
        }
      ]
    },
    {
      "cell_type": "code",
      "metadata": {
        "id": "mFe6etc71Wgd",
        "colab_type": "code",
        "colab": {
          "base_uri": "https://localhost:8080/",
          "height": 295
        },
        "outputId": "ecccf5ee-37ad-48a5-a180-89da49de1b58"
      },
      "source": [
        "# Graph accuracy over time\n",
        "eps = range(len(history.history['accuracy']))\n",
        "plt.plot(eps, history.history['accuracy'], label='Train')\n",
        "plt.plot(eps, history.history['val_accuracy'], label='Test')\n",
        "\n",
        "plt.title('Accuracy over time')\n",
        "plt.xlabel('Epochs')\n",
        "plt.ylabel('Classification Accuracy')\n",
        "plt.legend()\n",
        "plt.show()"
      ],
      "execution_count": 23,
      "outputs": [
        {
          "output_type": "display_data",
          "data": {
            "image/png": "[encoded data removed]",
            "text/plain": [
              "<Figure size 432x288 with 1 Axes>"
            ]
          },
          "metadata": {
            "tags": [],
            "needs_background": "light"
          }
        }
      ]
    },
    {
      "cell_type": "markdown",
      "metadata": {
        "id": "Wf6GkX0gIW-V",
        "colab_type": "text"
      },
      "source": [
        "# Custom CNN Model with Image Manipulations\n",
        "\n",
        "To simulate an increase in a sample of image, you can apply image manipulation techniques: cropping, rotation, stretching, etc. Luckily Keras has some handy functions for us to apply these techniques to our mountain and forest example. Simply, you should be able to modify our image generator for the problem. Check out these resources to help you get started: \n",
        "\n",
        "1. [Keras `ImageGenerator` Class](https://keras.io/preprocessing/image/#imagedatagenerator-class)\n",
        "2. [Building a powerful image classifier with very little data](https://blog.keras.io/building-powerful-image-classification-models-using-very-little-data.html)\n",
        " "
      ]
    },
    {
      "cell_type": "code",
      "metadata": {
        "id": "QnGKLql3IW-W",
        "colab_type": "code",
        "colab": {
          "base_uri": "https://localhost:8080/",
          "height": 34
        },
        "outputId": "3070536b-8262-46e7-903b-ffa5a131e303"
      },
      "source": [
        "# State Code for Image Manipulation Here\n",
        "\n",
        "# Adding random rotation, shear, zoom, shifting, and a horizontal flip\n",
        "train_image_manipulator = ImageDataGenerator(\n",
        "    rotation_range=40,\n",
        "    width_shift_range=0.2,\n",
        "    height_shift_range=0.2,\n",
        "    shear_range=0.2,\n",
        "    zoom_range=0.2,\n",
        "    horizontal_flip=True,\n",
        "    rescale=1./255\n",
        "    )\n",
        "\n",
        "train_gen_manipulator = train_image_manipulator.flow_from_directory(\n",
        "    batch_size=batch_size,\n",
        "    directory=train_dir,\n",
        "    shuffle=True,\n",
        "    target_size=(IMG_HEIGHT, IMG_WIDTH),\n",
        "    class_mode='binary'\n",
        "    )\n",
        "\n",
        "# No need to change the validation images, those are what we test with"
      ],
      "execution_count": 28,
      "outputs": [
        {
          "output_type": "stream",
          "text": [
            "Found 533 images belonging to 2 classes.\n"
          ],
          "name": "stdout"
        }
      ]
    },
    {
      "cell_type": "code",
      "metadata": {
        "id": "oBC6y6Dl5B1O",
        "colab_type": "code",
        "colab": {}
      },
      "source": [
        "# Remake model for this (same architecture)\n",
        "model = Sequential()\n",
        "model.add(Conv2D(32, (3,3), activation='relu', \n",
        "                 input_shape=(IMG_HEIGHT,IMG_WIDTH,CHNLS)))\n",
        "model.add(MaxPooling2D((2,2)))\n",
        "model.add(Conv2D(64, (3,3), activation='relu'))\n",
        "model.add(Flatten())\n",
        "model.add(Dense(64, activation='relu'))\n",
        "model.add(Dense(1, activation='sigmoid'))\n",
        "\n",
        "model.compile(optimizer='adam', loss='binary_crossentropy', \n",
        "              metrics=['accuracy'])"
      ],
      "execution_count": 0,
      "outputs": []
    },
    {
      "cell_type": "code",
      "metadata": {
        "id": "ymAv98n844ib",
        "colab_type": "code",
        "colab": {
          "base_uri": "https://localhost:8080/",
          "height": 1000
        },
        "outputId": "ee190b12-0b57-48a2-e06f-a32c42f80dae"
      },
      "source": [
        "# Again, no early stopping for full comparison\n",
        "history = model.fit(\n",
        "    train_gen_manipulator,  # this line has the new generator\n",
        "    steps_per_epoch=total_train // batch_size,\n",
        "    epochs=epochs,\n",
        "    validation_data=val_data_gen,\n",
        "    validation_steps=total_val // batch_size\n",
        ")"
      ],
      "execution_count": 30,
      "outputs": [
        {
          "output_type": "stream",
          "text": [
            "Epoch 1/50\n",
            "32/32 [==============================] - 7s 222ms/step - loss: 1.8584 - accuracy: 0.7715 - val_loss: 0.4981 - val_accuracy: 0.8098\n",
            "Epoch 2/50\n",
            "32/32 [==============================] - 7s 218ms/step - loss: 0.2570 - accuracy: 0.8922 - val_loss: 0.5590 - val_accuracy: 0.7791\n",
            "Epoch 3/50\n",
            "32/32 [==============================] - 7s 212ms/step - loss: 0.2335 - accuracy: 0.9062 - val_loss: 0.5402 - val_accuracy: 0.8037\n",
            "Epoch 4/50\n",
            "32/32 [==============================] - 7s 211ms/step - loss: 0.1880 - accuracy: 0.9301 - val_loss: 0.6736 - val_accuracy: 0.7669\n",
            "Epoch 5/50\n",
            "32/32 [==============================] - 7s 212ms/step - loss: 0.2086 - accuracy: 0.9142 - val_loss: 1.0168 - val_accuracy: 0.6748\n",
            "Epoch 6/50\n",
            "32/32 [==============================] - 7s 212ms/step - loss: 0.2205 - accuracy: 0.9022 - val_loss: 0.4610 - val_accuracy: 0.8352\n",
            "Epoch 7/50\n",
            "32/32 [==============================] - 7s 210ms/step - loss: 0.2373 - accuracy: 0.9122 - val_loss: 0.4407 - val_accuracy: 0.8239\n",
            "Epoch 8/50\n",
            "32/32 [==============================] - 7s 209ms/step - loss: 0.1957 - accuracy: 0.9122 - val_loss: 0.4820 - val_accuracy: 0.7791\n",
            "Epoch 9/50\n",
            "32/32 [==============================] - 7s 209ms/step - loss: 0.1927 - accuracy: 0.9321 - val_loss: 0.5239 - val_accuracy: 0.7791\n",
            "Epoch 10/50\n",
            "32/32 [==============================] - 7s 209ms/step - loss: 0.2259 - accuracy: 0.9082 - val_loss: 0.2547 - val_accuracy: 0.8834\n",
            "Epoch 11/50\n",
            "32/32 [==============================] - 7s 209ms/step - loss: 0.2384 - accuracy: 0.9202 - val_loss: 0.2265 - val_accuracy: 0.8896\n",
            "Epoch 12/50\n",
            "32/32 [==============================] - 7s 205ms/step - loss: 0.2211 - accuracy: 0.9122 - val_loss: 1.4294 - val_accuracy: 0.6564\n",
            "Epoch 13/50\n",
            "32/32 [==============================] - 7s 205ms/step - loss: 0.2307 - accuracy: 0.9022 - val_loss: 0.7906 - val_accuracy: 0.6564\n",
            "Epoch 14/50\n",
            "32/32 [==============================] - 7s 205ms/step - loss: 0.2117 - accuracy: 0.9182 - val_loss: 0.9562 - val_accuracy: 0.7301\n",
            "Epoch 15/50\n",
            "32/32 [==============================] - 7s 205ms/step - loss: 0.1935 - accuracy: 0.9102 - val_loss: 0.2630 - val_accuracy: 0.8528\n",
            "Epoch 16/50\n",
            "32/32 [==============================] - 7s 208ms/step - loss: 0.1587 - accuracy: 0.9341 - val_loss: 0.3697 - val_accuracy: 0.8098\n",
            "Epoch 17/50\n",
            "32/32 [==============================] - 7s 205ms/step - loss: 0.1790 - accuracy: 0.9222 - val_loss: 0.2654 - val_accuracy: 0.8650\n",
            "Epoch 18/50\n",
            "32/32 [==============================] - 7s 209ms/step - loss: 0.2320 - accuracy: 0.9043 - val_loss: 0.2680 - val_accuracy: 0.8896\n",
            "Epoch 19/50\n",
            "32/32 [==============================] - 7s 205ms/step - loss: 0.2553 - accuracy: 0.8802 - val_loss: 0.5490 - val_accuracy: 0.7557\n",
            "Epoch 20/50\n",
            "32/32 [==============================] - 7s 206ms/step - loss: 0.2441 - accuracy: 0.8902 - val_loss: 0.1893 - val_accuracy: 0.9091\n",
            "Epoch 21/50\n",
            "32/32 [==============================] - 7s 204ms/step - loss: 0.2549 - accuracy: 0.8942 - val_loss: 0.4168 - val_accuracy: 0.7914\n",
            "Epoch 22/50\n",
            "32/32 [==============================] - 7s 206ms/step - loss: 0.1662 - accuracy: 0.9321 - val_loss: 0.4705 - val_accuracy: 0.8466\n",
            "Epoch 23/50\n",
            "32/32 [==============================] - 7s 209ms/step - loss: 0.2270 - accuracy: 0.9321 - val_loss: 0.3552 - val_accuracy: 0.8466\n",
            "Epoch 24/50\n",
            "32/32 [==============================] - 7s 206ms/step - loss: 0.1833 - accuracy: 0.9261 - val_loss: 0.3616 - val_accuracy: 0.8282\n",
            "Epoch 25/50\n",
            "32/32 [==============================] - 7s 209ms/step - loss: 0.1491 - accuracy: 0.9341 - val_loss: 0.4652 - val_accuracy: 0.8160\n",
            "Epoch 26/50\n",
            "32/32 [==============================] - 7s 209ms/step - loss: 0.2015 - accuracy: 0.9361 - val_loss: 0.5357 - val_accuracy: 0.7730\n",
            "Epoch 27/50\n",
            "32/32 [==============================] - 7s 204ms/step - loss: 0.1389 - accuracy: 0.9461 - val_loss: 0.7144 - val_accuracy: 0.7423\n",
            "Epoch 28/50\n",
            "32/32 [==============================] - 7s 204ms/step - loss: 0.1708 - accuracy: 0.9361 - val_loss: 0.6953 - val_accuracy: 0.7546\n",
            "Epoch 29/50\n",
            "32/32 [==============================] - 7s 204ms/step - loss: 0.1702 - accuracy: 0.9461 - val_loss: 0.7471 - val_accuracy: 0.7362\n",
            "Epoch 30/50\n",
            "32/32 [==============================] - 7s 206ms/step - loss: 0.1564 - accuracy: 0.9321 - val_loss: 0.7325 - val_accuracy: 0.7055\n",
            "Epoch 31/50\n",
            "32/32 [==============================] - 7s 206ms/step - loss: 0.1997 - accuracy: 0.9162 - val_loss: 0.4689 - val_accuracy: 0.8098\n",
            "Epoch 32/50\n",
            "32/32 [==============================] - 7s 207ms/step - loss: 0.2031 - accuracy: 0.9182 - val_loss: 0.3523 - val_accuracy: 0.8068\n",
            "Epoch 33/50\n",
            "32/32 [==============================] - 7s 206ms/step - loss: 0.1979 - accuracy: 0.9182 - val_loss: 0.5310 - val_accuracy: 0.7670\n",
            "Epoch 34/50\n",
            "32/32 [==============================] - 7s 205ms/step - loss: 0.1794 - accuracy: 0.9281 - val_loss: 0.2959 - val_accuracy: 0.8834\n",
            "Epoch 35/50\n",
            "32/32 [==============================] - 7s 210ms/step - loss: 0.1881 - accuracy: 0.9473 - val_loss: 0.2295 - val_accuracy: 0.8896\n",
            "Epoch 36/50\n",
            "32/32 [==============================] - 7s 206ms/step - loss: 0.1725 - accuracy: 0.9381 - val_loss: 0.7030 - val_accuracy: 0.7914\n",
            "Epoch 37/50\n",
            "32/32 [==============================] - 7s 206ms/step - loss: 0.1864 - accuracy: 0.9242 - val_loss: 0.5169 - val_accuracy: 0.7730\n",
            "Epoch 38/50\n",
            "32/32 [==============================] - 7s 206ms/step - loss: 0.1447 - accuracy: 0.9421 - val_loss: 0.5020 - val_accuracy: 0.8160\n",
            "Epoch 39/50\n",
            "32/32 [==============================] - 7s 206ms/step - loss: 0.1602 - accuracy: 0.9401 - val_loss: 0.3375 - val_accuracy: 0.8896\n",
            "Epoch 40/50\n",
            "32/32 [==============================] - 7s 205ms/step - loss: 0.1581 - accuracy: 0.9481 - val_loss: 0.2794 - val_accuracy: 0.8650\n",
            "Epoch 41/50\n",
            "32/32 [==============================] - 7s 204ms/step - loss: 0.1540 - accuracy: 0.9461 - val_loss: 0.3586 - val_accuracy: 0.8650\n",
            "Epoch 42/50\n",
            "32/32 [==============================] - 7s 205ms/step - loss: 0.1787 - accuracy: 0.9421 - val_loss: 0.4644 - val_accuracy: 0.8098\n",
            "Epoch 43/50\n",
            "32/32 [==============================] - 7s 204ms/step - loss: 0.1472 - accuracy: 0.9541 - val_loss: 0.7447 - val_accuracy: 0.7239\n",
            "Epoch 44/50\n",
            "32/32 [==============================] - 7s 205ms/step - loss: 0.1651 - accuracy: 0.9341 - val_loss: 0.4842 - val_accuracy: 0.8098\n",
            "Epoch 45/50\n",
            "32/32 [==============================] - 7s 207ms/step - loss: 0.1614 - accuracy: 0.9381 - val_loss: 0.4494 - val_accuracy: 0.8011\n",
            "Epoch 46/50\n",
            "32/32 [==============================] - 7s 208ms/step - loss: 0.1223 - accuracy: 0.9521 - val_loss: 0.8115 - val_accuracy: 0.7330\n",
            "Epoch 47/50\n",
            "32/32 [==============================] - 7s 207ms/step - loss: 0.1593 - accuracy: 0.9421 - val_loss: 0.2883 - val_accuracy: 0.8773\n",
            "Epoch 48/50\n",
            "32/32 [==============================] - 7s 207ms/step - loss: 0.1684 - accuracy: 0.9222 - val_loss: 0.2327 - val_accuracy: 0.8957\n",
            "Epoch 49/50\n",
            "32/32 [==============================] - 7s 206ms/step - loss: 0.1319 - accuracy: 0.9521 - val_loss: 0.3223 - val_accuracy: 0.9018\n",
            "Epoch 50/50\n",
            "32/32 [==============================] - 7s 205ms/step - loss: 0.1623 - accuracy: 0.9222 - val_loss: 0.3747 - val_accuracy: 0.8405\n"
          ],
          "name": "stdout"
        }
      ]
    },
    {
      "cell_type": "code",
      "metadata": {
        "id": "IQtpzv_e5LAE",
        "colab_type": "code",
        "colab": {
          "base_uri": "https://localhost:8080/",
          "height": 295
        },
        "outputId": "e7ee2074-a193-4a76-9f03-d29b4b553922"
      },
      "source": [
        "# Graph accuracy over time\n",
        "plt.plot(history.history['accuracy'], label='Train')\n",
        "plt.plot(history.history['val_accuracy'], label='Test')\n",
        "\n",
        "plt.title('Accuracy over time')\n",
        "plt.xlabel('Epochs')\n",
        "plt.ylabel('Classification Accuracy')\n",
        "plt.legend()\n",
        "plt.show()"
      ],
      "execution_count": 31,
      "outputs": [
        {
          "output_type": "display_data",
          "data": {
            "image/png": "[encoded data removed]",
            "text/plain": [
              "<Figure size 432x288 with 1 Axes>"
            ]
          },
          "metadata": {
            "tags": [],
            "needs_background": "light"
          }
        }
      ]
    },
    {
      "cell_type": "markdown",
      "metadata": {
        "id": "ZX4IzmVC8D9U",
        "colab_type": "text"
      },
      "source": [
        "The other model settled around 95% validation accuracy, this is much worse.  Maybe I'm doing too much image manipulation?"
      ]
    },
    {
      "cell_type": "markdown",
      "metadata": {
        "colab_type": "text",
        "id": "uT3UV3gap9H6"
      },
      "source": [
        "# Resources and Stretch Goals\n",
        "\n",
        "Stretch goals\n",
        "- Enhance your code to use classes/functions and accept terms to search and classes to look for in recognizing the downloaded images (e.g. download images of parties, recognize all that contain balloons)\n",
        "- Check out [other available pretrained networks](https://tfhub.dev), try some and compare\n",
        "- Image recognition/classification is somewhat solved, but *relationships* between entities and describing an image is not - check out some of the extended resources (e.g. [Visual Genome](https://visualgenome.org/)) on the topic\n",
        "- Transfer learning - using images you source yourself, [retrain a classifier](https://www.tensorflow.org/hub/tutorials/image_retraining) with a new category\n",
        "- (Not CNN related) Use [piexif](https://pypi.org/project/piexif/) to check out the metadata of images passed in to your system - see if they're from a national park! (Note - many images lack GPS metadata, so this won't work in most cases, but still cool)\n",
        "\n",
        "Resources\n",
        "- [Deep Residual Learning for Image Recognition](https://arxiv.org/abs/1512.03385) - influential paper (introduced ResNet)\n",
        "- [YOLO: Real-Time Object Detection](https://pjreddie.com/darknet/yolo/) - an influential convolution based object detection system, focused on inference speed (for applications to e.g. self driving vehicles)\n",
        "- [R-CNN, Fast R-CNN, Faster R-CNN, YOLO](https://towardsdatascience.com/r-cnn-fast-r-cnn-faster-r-cnn-yolo-object-detection-algorithms-36d53571365e) - comparison of object detection systems\n",
        "- [Common Objects in Context](http://cocodataset.org/) - a large-scale object detection, segmentation, and captioning dataset\n",
        "- [Visual Genome](https://visualgenome.org/) - a dataset, a knowledge base, an ongoing effort to connect structured image concepts to language"
      ]
    }
  ]
}